{
 "cells": [
  {
   "cell_type": "markdown",
   "metadata": {},
   "source": [
    "## Recap курса \"Введение в машинное обучение\"\n",
    "\n",
    "## Семинар #10\n",
    "\n",
    "### Екатерина Кондратьева\n",
    "\n",
    "ekaterina.kondrateva@skoltech.ru"
   ]
  },
  {
   "cell_type": "markdown",
   "metadata": {},
   "source": [
    "  Программа курса:\n",
    "  \n",
    "   1. Обучение с учителем: Линейная и логистическая регрессия. Ядра.\n",
    "    \n",
    "    Фолдер: https://github.com/kondratevakate/machine-learning-with-love/tree/master/02_lr\n",
    "    \n",
    " \n",
    "    \n",
    "   2. Обучение с учителем: Регуляризация в линейных моделях. Метод Ближайших Соседей (KNN)\n",
    "    \n",
    "    Фолдер: https://github.com/kondratevakate/machine-learning-with-love/blob/master/03_knn\n",
    "    \n",
    "\n",
    "    \n",
    "   3. Обучение с учителем: Метод опорных векторов (SVM) для задач классификации и регрессии. Kernel SVM\n",
    "    \n",
    "    Фолдер: https://github.com/kondratevakate/machine-learning-with-love/tree/master/04_svc\n",
    "     \n",
    "\n",
    "    \n",
    "   4. Обучение с учителем: Деревья решений (Decision Trees). Случайный лес (Random Forest).\n",
    "    \n",
    "    Фолдер: https://github.com/kondratevakate/machine-learning-with-love/tree/master/05_rfc\n",
    "    \n",
    "\n",
    "    \n",
    "   5. Оценка качества алгоритмов машинного обучения. Кросс-валидация. Поиск аномалий и артефактов в выборке. \n",
    "    \n",
    "    Фолдер: https://github.com/kondratevakate/machine-learning-with-love/tree/master/06_model_validaton\n",
    "    \n",
    "\n",
    "    \n",
    "   6. Обучение без учителя: кластеризация. Снижение размерности данных PCA.\n",
    "    \n",
    "    Фолдер: https://github.com/kondratevakate/machine-learning-with-love/tree/master/07_clustering_pca\n",
    "    \n",
    "\n",
    "    \n",
    "   7. Отбор и генерация признаков (Feature Engineering). Поиск и оптимизация модели (Grid Search).\n",
    "    \n",
    "    Фолдер: https://github.com/kondratevakate/machine-learning-with-love/tree/master/08_feature_engineering\n",
    "    \n",
    "\n",
    "    \n",
    "   8. Стекинг, вотинг. Градиентный бустинг. Пакеты XGBoost/Catboost/LightGBM  \n",
    "    \n",
    "    Фолдер: https://github.com/kondratevakate/machine-learning-with-love/tree/master/09_gradient_boosting\n",
    "    \n",
    "    "
   ]
  },
  {
   "cell_type": "markdown",
   "metadata": {},
   "source": [
    "### Построим пайплан для датасета HousePricing:"
   ]
  },
  {
   "cell_type": "markdown",
   "metadata": {},
   "source": [
    "Данные - https://www.kaggle.com/lider123/housepricing"
   ]
  },
  {
   "cell_type": "code",
   "execution_count": null,
   "metadata": {},
   "outputs": [],
   "source": [
    "import pandas as pd\n",
    "import numpy as np\n",
    "from scipy.stats import skew\n",
    "from sklearn.preprocessing import StandardScaler\n",
    "from sklearn.model_selection import KFold, cross_val_score\n",
    "from sklearn.metrics import mean_squared_error\n",
    "import seaborn as sns"
   ]
  },
  {
   "cell_type": "code",
   "execution_count": null,
   "metadata": {},
   "outputs": [],
   "source": [
    "train_data = pd.read_csv(\"housepricing/train.csv\")\n",
    "test_data = pd.read_csv(\"housepricing/test.csv\")"
   ]
  },
  {
   "cell_type": "code",
   "execution_count": null,
   "metadata": {},
   "outputs": [],
   "source": [
    "full_data = pd.concat([train_data,test_data])"
   ]
  },
  {
   "cell_type": "code",
   "execution_count": null,
   "metadata": {},
   "outputs": [],
   "source": [
    "full_data.info()"
   ]
  },
  {
   "cell_type": "code",
   "execution_count": null,
   "metadata": {},
   "outputs": [],
   "source": [
    "categorial_features = [prizn for prizn in full_data.columns if full_data[prizn].dtype.name == 'object']\n",
    "numeric_features = [prizn for prizn in full_data.columns if full_data[prizn].dtype.name != 'object']\n",
    "print(categorial_features, numeric_features, sep = '\\n')"
   ]
  },
  {
   "cell_type": "code",
   "execution_count": null,
   "metadata": {},
   "outputs": [],
   "source": [
    "# заполним пропуски числовых данных применяя свои знания предметной области\n",
    "full_data[\"SaleType\"].fillna(full_data[\"SaleType\"].mode()[0], inplace=True)\n",
    "full_data[\"Electrical\"].fillna(full_data[\"Electrical\"].mode()[0], inplace=True)\n",
    "full_data[\"MSZoning\"].fillna(full_data[\"MSZoning\"].mode()[0], inplace=True)\n",
    "full_data[\"GarageArea\"].fillna(full_data[\"GarageArea\"].median(), inplace=True)\n",
    "full_data[\"CentralAir\"] = full_data[\"CentralAir\"].map({\"Y\": 1, \"N\": 0})\n",
    "full_data[\"LotFrontage\"].fillna(full_data[\"LotFrontage\"].median(), inplace=True)\n",
    "full_data[\"Alley\"].fillna(\"None\", inplace=True)\n",
    "full_data[\"MasVnrType\"].fillna(\"None\", inplace=True)\n",
    "full_data[\"MasVnrArea\"].fillna(0, inplace=True)"
   ]
  },
  {
   "cell_type": "code",
   "execution_count": null,
   "metadata": {},
   "outputs": [],
   "source": [
    "#заполним пропуски числовых данных подряд медианой\n",
    "for i in numeric_features:\n",
    "    full_data[i].fillna(full_data[i].median(), inplace=True)"
   ]
  },
  {
   "cell_type": "code",
   "execution_count": null,
   "metadata": {},
   "outputs": [],
   "source": [
    "# кодируем переменные типа объекта\n",
    "full_data = pd.get_dummies(full_data, columns=categorial_features)\n",
    "\n",
    "X_train, X_test = full_data.iloc[:len(train_data), :], full_data.iloc[len(train_data):, :]\n",
    "\n",
    "X_train.head()"
   ]
  },
  {
   "cell_type": "code",
   "execution_count": null,
   "metadata": {},
   "outputs": [],
   "source": [
    "X_train.shape"
   ]
  },
  {
   "cell_type": "markdown",
   "metadata": {},
   "source": [
    "#### Снижение размерности?\n",
    "#### Какая задача - регрессия или классификация?"
   ]
  },
  {
   "cell_type": "code",
   "execution_count": null,
   "metadata": {},
   "outputs": [],
   "source": [
    "# построим самый простой регрессор\n",
    "from sklearn.linear_model import LinearRegression\n",
    "from sklearn.model_selection import cross_val_score, StratifiedShuffleSplit, StratifiedKFold\n",
    "\n",
    "clf = LinearRegression()"
   ]
  },
  {
   "cell_type": "markdown",
   "metadata": {},
   "source": [
    "#### Регуляризация?\n",
    "#### Оценка модели? "
   ]
  },
  {
   "cell_type": "code",
   "execution_count": null,
   "metadata": {},
   "outputs": [],
   "source": [
    "y_train = train_data[\"SalePrice\"]\n",
    "X_train.drop(\"SalePrice\",axis=1, inplace=True)"
   ]
  },
  {
   "cell_type": "code",
   "execution_count": null,
   "metadata": {},
   "outputs": [],
   "source": [
    "y_train.shape"
   ]
  },
  {
   "cell_type": "code",
   "execution_count": null,
   "metadata": {},
   "outputs": [],
   "source": [
    "X = X_train\n",
    "y = y_train\n",
    "skf = StratifiedKFold(n_splits=5, random_state=42)\n",
    "skf.get_n_splits(X, y)\n",
    "\n",
    "scores=[]\n",
    "\n",
    "for train_index, test_index in skf.split(X, y):\n",
    "    #print(\"TRAIN:\", train_index, \"TEST:\", test_index)\n",
    "    X_train, X_test = X.iloc[train_index], X.iloc[test_index]\n",
    "    y_train, y_test = y.iloc[train_index], y.iloc[test_index]\n",
    "    clf.fit(X_train, y_train)\n",
    "    print(clf.score(X_test, y_test))\n",
    "    scores.append(clf.score(X_test, y_test))"
   ]
  },
  {
   "cell_type": "code",
   "execution_count": null,
   "metadata": {},
   "outputs": [],
   "source": [
    "from sklearn.preprocessing import StandardScaler\n",
    "\n",
    "sclr= StandardScaler()\n",
    "X_cols= X_train.columns\n",
    "X = pd.DataFrame(sclr.fit_transform(X_train), columns = X_cols)\n",
    "\n",
    "\n",
    "y = y_train\n",
    "skf = StratifiedKFold(n_splits=5, random_state=42)\n",
    "skf.get_n_splits(X, y)\n",
    "\n",
    "scores=[]\n",
    "\n",
    "for train_index, test_index in skf.split(X, y):\n",
    "    #print(\"TRAIN:\", train_index, \"TEST:\", test_index)\n",
    "    X_train, X_test = X.iloc[train_index], X.iloc[test_index]\n",
    "    y_train, y_test = y.iloc[train_index], y.iloc[test_index]\n",
    "    clf.fit(X_train, y_train)\n",
    "    print(clf.score(X_test, y_test))\n",
    "    scores.append(clf.score(X_test, y_test))"
   ]
  },
  {
   "cell_type": "code",
   "execution_count": null,
   "metadata": {},
   "outputs": [],
   "source": [
    "cross_val_score(lrr, X_train, y_train, cv=5)"
   ]
  },
  {
   "cell_type": "code",
   "execution_count": null,
   "metadata": {},
   "outputs": [],
   "source": [
    "X_train_short= X_train[['Id', 'MSSubClass', 'LotArea', 'OverallQual',\\\n",
    "      'OverallCond', 'YearBuilt', 'YearRemodAdd',\\\n",
    "      'BsmtUnfSF', 'TotalBsmtSF', '1stFlrSF', '2ndFlrSF',\\\n",
    "     'LowQualFinSF', 'GrLivArea', 'BsmtFullBath',\\\n",
    "     'FullBath', 'HalfBath', 'BedroomAbvGr', 'KitchenAbvGr',\\\n",
    "     'TotRmsAbvGrd', 'Fireplaces', 'GarageCars',\\\n",
    "     'GarageArea', 'WoodDeckSF', 'OpenPorchSF', 'EnclosedPorch', '3SsnPorch',\\\n",
    "     'ScreenPorch', 'PoolArea', 'MiscVal', 'MoSold', 'YrSold']]"
   ]
  },
  {
   "cell_type": "code",
   "execution_count": null,
   "metadata": {},
   "outputs": [],
   "source": [
    "from sklearn.model_selection import GridSearchCV\n",
    "from sklearn.ensemble import RandomForestRegressor\n",
    "\n",
    "params = {\n",
    "    \"n_estimators\": [10, 50],\n",
    "    \"max_features\": [\"auto\", \"sqrt\"],\n",
    "    \"max_depth\": [5,10]\n",
    "}\n",
    "gs = GridSearchCV(estimator=RandomForestRegressor(), param_grid=params, cv=5, scoring=\"neg_mean_squared_error\")\n",
    "gs.fit(X_train, y_train)\n",
    "\n",
    "gs.best_params_"
   ]
  },
  {
   "cell_type": "code",
   "execution_count": null,
   "metadata": {},
   "outputs": [],
   "source": [
    "model = RandomForestRegressor(**gs.best_params_)\n",
    "cross_val_score(model, X_train, y_train, cv=5)"
   ]
  },
  {
   "cell_type": "code",
   "execution_count": null,
   "metadata": {},
   "outputs": [],
   "source": [
    "X = X_train\n",
    "y = y_train\n",
    "skf = StratifiedKFold(n_splits=5, random_state=42)\n",
    "skf.get_n_splits(X, y)\n",
    "\n",
    "scores=[]\n",
    "\n",
    "for train_index, test_index in skf.split(X, y):\n",
    "    #print(\"TRAIN:\", train_index, \"TEST:\", test_index)\n",
    "    X_train, X_test = X.iloc[train_index], X.iloc[test_index]\n",
    "    y_train, y_test = y.iloc[train_index], y.iloc[test_index]\n",
    "    model.fit(X_train, y_train)\n",
    "    print(model.score(X_test, y_test))\n",
    "    scores.append(model.score(X_test, y_test))"
   ]
  },
  {
   "cell_type": "code",
   "execution_count": null,
   "metadata": {},
   "outputs": [],
   "source": [
    "X = X_train\n",
    "y = y_train\n",
    "skf = StratifiedKFold(n_splits=5, random_state=42)\n",
    "skf.get_n_splits(X, y)\n",
    "\n",
    "scores=[]\n",
    "\n",
    "for train_index, test_index in skf.split(X, y):\n",
    "    #print(\"TRAIN:\", train_index, \"TEST:\", test_index)\n",
    "    X_train, X_test = X.iloc[train_index], X.iloc[test_index]\n",
    "    y_train, y_test = y.iloc[train_index], y.iloc[test_index]\n",
    "    clf.fit(X_train, y_train)\n",
    "    print(clf.score(X_test, y_test))\n",
    "    scores.append(clf.score(X_test, y_test))"
   ]
  },
  {
   "cell_type": "markdown",
   "metadata": {},
   "source": [
    "## Titanic dataset "
   ]
  },
  {
   "cell_type": "code",
   "execution_count": null,
   "metadata": {},
   "outputs": [],
   "source": [
    "train_df = pd.read_csv('titanic/train.csv')\n",
    "test_df = pd.read_csv('titanic/test.csv')"
   ]
  },
  {
   "cell_type": "code",
   "execution_count": null,
   "metadata": {},
   "outputs": [],
   "source": [
    "train_df[\"Male\"] = train_df.Sex.map({\"male\": 1, \"female\": 0}).astype(int) # альтернатива OneHotEncoding\n",
    "test_df[\"Male\"] = test_df.Sex.map({\"male\": 1, \"female\": 0}).astype(int)\n",
    "\n",
    "train_df = train_df.drop([\"PassengerId\", \"Ticket\", \"Cabin\", \"Name\", \"Sex\", \"SibSp\", \"Parch\", \"Embarked\", \"Fare\", 'Age'], axis=1)\n",
    "test_df = test_df.drop([\"Ticket\", \"Cabin\", \"Name\", \"Sex\", \"SibSp\", \"Parch\", \"Embarked\", \"Fare\",'Age'], axis=1)\n",
    "\n",
    "X = train_df.drop(\"Survived\", axis=1).fillna(np.nan)\n",
    "y = train_df.Survived\n",
    "X_test = test_df.drop(\"PassengerId\", axis=1).fillna(np.nan)\n",
    "\n",
    "\n",
    "X.tail()"
   ]
  },
  {
   "cell_type": "code",
   "execution_count": null,
   "metadata": {},
   "outputs": [],
   "source": [
    "from sklearn.linear_model import LogisticRegression\n",
    "clf= LogisticRegression()"
   ]
  },
  {
   "cell_type": "code",
   "execution_count": null,
   "metadata": {},
   "outputs": [],
   "source": [
    "skf = StratifiedKFold(n_splits=10, random_state=42)\n",
    "skf.get_n_splits(X, y)\n",
    "\n",
    "scores=[]\n",
    "\n",
    "for train_index, test_index in skf.split(X, y):\n",
    "    #print(\"TRAIN:\", train_index, \"TEST:\", test_index)\n",
    "    X_train, X_test = X.iloc[train_index], X.iloc[test_index]\n",
    "    \n",
    "    y_train, y_test = y.iloc[train_index], y.iloc[test_index]\n",
    "    clf.fit(X_train, y_train)\n",
    "    print(clf.score(X_test, y_test))\n",
    "    scores.append(clf.score(X_test, y_test))"
   ]
  },
  {
   "cell_type": "code",
   "execution_count": null,
   "metadata": {},
   "outputs": [],
   "source": [
    "clf = Pipeline([('selectk', SelectKBest(k=6)), \n",
    "                     ('scaler', StandardScaler()),\n",
    "                ('decision_tree',  RandomForestClassifier(n_estimators=25, max_depth=3))])\n",
    "\n",
    "cross_val_score(estimator=clf, X=X_train, y=y_train, cv=5).mean()"
   ]
  },
  {
   "cell_type": "markdown",
   "metadata": {},
   "source": [
    "### Метрики: оценки качества"
   ]
  },
  {
   "cell_type": "markdown",
   "metadata": {},
   "source": [
    "### Практикум по *.Git системам:"
   ]
  },
  {
   "cell_type": "markdown",
   "metadata": {},
   "source": [
    "!['git'](https://i1.wp.com/lanziani.com/slides/gitflow/images/gitflow_1.png?zoom=2)"
   ]
  },
  {
   "cell_type": "markdown",
   "metadata": {},
   "source": [
    "1. Установка: https://git-scm.com/downloads\n",
    "2. GUI: https://desktop.github.com/\n",
    "3. Туториал: https://learngitbranching.js.org/"
   ]
  }
 ],
 "metadata": {
  "kernelspec": {
   "display_name": "Python 3",
   "language": "python",
   "name": "python3"
  },
  "language_info": {
   "codemirror_mode": {
    "name": "ipython",
    "version": 3
   },
   "file_extension": ".py",
   "mimetype": "text/x-python",
   "name": "python",
   "nbconvert_exporter": "python",
   "pygments_lexer": "ipython3",
   "version": "3.6.8"
  }
 },
 "nbformat": 4,
 "nbformat_minor": 2
}
